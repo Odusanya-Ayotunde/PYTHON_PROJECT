{
 "cells": [
  {
   "cell_type": "code",
   "execution_count": 79,
   "id": "876def88",
   "metadata": {},
   "outputs": [
    {
     "name": "stdout",
     "output_type": "stream",
     "text": [
      "['jude', 'Thelma', True, 'yes', 20]\n"
     ]
    }
   ],
   "source": [
    "#defining arrays\n",
    "\n",
    "y = [\"jude\", \"Thelma\", True, \"yes\", 20]\n",
    "print(y)"
   ]
  },
  {
   "cell_type": "code",
   "execution_count": 80,
   "id": "59143b27",
   "metadata": {},
   "outputs": [
    {
     "name": "stdout",
     "output_type": "stream",
     "text": [
      "[]\n",
      "[]\n"
     ]
    },
    {
     "ename": "NameError",
     "evalue": "name 'booleans' is not defined",
     "output_type": "error",
     "traceback": [
      "\u001b[1;31m---------------------------------------------------------------------------\u001b[0m",
      "\u001b[1;31mNameError\u001b[0m                                 Traceback (most recent call last)",
      "\u001b[1;32m~\\AppData\\Local\\Temp/ipykernel_6504/2814727900.py\u001b[0m in \u001b[0;36m<module>\u001b[1;34m\u001b[0m\n\u001b[0;32m      8\u001b[0m         \u001b[0mstrng\u001b[0m\u001b[1;33m.\u001b[0m\u001b[0mappend\u001b[0m\u001b[1;33m(\u001b[0m\u001b[0mi\u001b[0m\u001b[1;33m)\u001b[0m\u001b[1;33m\u001b[0m\u001b[1;33m\u001b[0m\u001b[0m\n\u001b[0;32m      9\u001b[0m     \u001b[1;32melif\u001b[0m \u001b[0mtype\u001b[0m\u001b[1;33m(\u001b[0m\u001b[0mi\u001b[0m\u001b[1;33m)\u001b[0m \u001b[1;33m==\u001b[0m \u001b[0mbool\u001b[0m\u001b[1;33m:\u001b[0m\u001b[1;33m\u001b[0m\u001b[1;33m\u001b[0m\u001b[0m\n\u001b[1;32m---> 10\u001b[1;33m         \u001b[0mbooleans\u001b[0m\u001b[1;33m.\u001b[0m\u001b[0mappend\u001b[0m\u001b[1;33m(\u001b[0m\u001b[0mi\u001b[0m\u001b[1;33m)\u001b[0m\u001b[1;33m\u001b[0m\u001b[1;33m\u001b[0m\u001b[0m\n\u001b[0m\u001b[0;32m     11\u001b[0m     \u001b[1;32melse\u001b[0m\u001b[1;33m:\u001b[0m\u001b[1;33m\u001b[0m\u001b[1;33m\u001b[0m\u001b[0m\n\u001b[0;32m     12\u001b[0m         \u001b[0mnumbers\u001b[0m\u001b[1;33m.\u001b[0m\u001b[0mappend\u001b[0m\u001b[1;33m(\u001b[0m\u001b[0mi\u001b[0m\u001b[1;33m)\u001b[0m\u001b[1;33m\u001b[0m\u001b[1;33m\u001b[0m\u001b[0m\n",
      "\u001b[1;31mNameError\u001b[0m: name 'booleans' is not defined"
     ]
    }
   ],
   "source": [
    "#to seperate and get the stings, booleans and values\n",
    "\n",
    "y = [\"jude\", \"Thelma\", True, \"yes\", 20, 35.1]\n",
    "strng = []\n",
    "numbers = []\n",
    "for i in y:\n",
    "    if type(i) == str:\n",
    "        strng.append(i)\n",
    "    elif type(i) == bool:\n",
    "        booleans.append(i)\n",
    "    else:\n",
    "        numbers.append(i)\n",
    "    print(numbers)"
   ]
  },
  {
   "cell_type": "code",
   "execution_count": 1,
   "id": "f656e058",
   "metadata": {},
   "outputs": [
    {
     "data": {
      "text/plain": [
       "bool"
      ]
     },
     "execution_count": 1,
     "metadata": {},
     "output_type": "execute_result"
    }
   ],
   "source": [
    "#type is used to know the variable you are using\n",
    "\n",
    "type(True)\n"
   ]
  },
  {
   "cell_type": "code",
   "execution_count": 2,
   "id": "60745852",
   "metadata": {},
   "outputs": [
    {
     "data": {
      "text/plain": [
       "int"
      ]
     },
     "execution_count": 2,
     "metadata": {},
     "output_type": "execute_result"
    }
   ],
   "source": [
    "type(20)"
   ]
  },
  {
   "cell_type": "code",
   "execution_count": 3,
   "id": "883e9b83",
   "metadata": {},
   "outputs": [
    {
     "name": "stdout",
     "output_type": "stream",
     "text": [
      "[1, 2, 3, 4, 5, 6, 7, 8, 9, 10, 11, 12, 13, 14, 15, 16, 17, 18, 19, 20, 21, 22, 23, 24, 25, 26, 27, 28, 29, 30, 31, 32, 33, 34, 35, 36, 37, 38, 39, 40, 41, 42, 43, 44, 45, 46, 47, 48, 49]\n"
     ]
    }
   ],
   "source": [
    "#to write a range of numbers\n",
    "\n",
    "vals = []\n",
    "for i in range(1, 50):\n",
    "        vals.append(i)\n",
    "print(vals)"
   ]
  },
  {
   "cell_type": "code",
   "execution_count": 4,
   "id": "a5c218b2",
   "metadata": {},
   "outputs": [
    {
     "name": "stdout",
     "output_type": "stream",
     "text": [
      "[1, 2, 3, 4, 5, 6, 7, 8, 9, 10, 11, 12, 13, 14, 15, 16, 17, 18, 19, 20, 21, 22, 23, 24, 25, 26, 27, 28, 29, 30, 31, 32, 33, 34, 35, 36, 37, 38, 39, 40, 41, 42, 43, 44, 45, 46, 47, 48, 49, 50]\n"
     ]
    }
   ],
   "source": [
    "vals = []\n",
    "for i in range(1, 50+1):\n",
    "        vals.append(i)\n",
    "print(vals)"
   ]
  },
  {
   "cell_type": "code",
   "execution_count": 5,
   "id": "b4fbb61d",
   "metadata": {},
   "outputs": [
    {
     "name": "stdout",
     "output_type": "stream",
     "text": [
      "[1, 2, 3, 4, 5, 6, 7, 8, 9, 10, 11, 12, 13, 14, 15, 16, 17, 18, 19, 20, 21, 22, 23, 24, 25, 26, 27, 28, 29, 30, 31, 32, 33, 34, 35, 36, 37, 38, 39, 40, 41, 42, 43, 44, 45, 46, 47, 48, 49]\n"
     ]
    }
   ],
   "source": [
    "# or\n",
    "\n",
    "number_vals =[i for i in range(1, 50)]\n",
    "print (number_vals)"
   ]
  },
  {
   "cell_type": "code",
   "execution_count": 6,
   "id": "9a7f7181",
   "metadata": {},
   "outputs": [
    {
     "name": "stdout",
     "output_type": "stream",
     "text": [
      "[1, 2, 3, 4, 5, 6, 7, 8, 9, 10, 11, 12, 13, 14, 15, 16, 17, 18, 19, 20, 21, 22, 23, 24, 25, 26, 27, 28, 29, 30, 31, 32, 33, 34, 35, 36, 37, 38, 39, 40, 41, 42, 43, 44, 45, 46, 47, 48, 49, 50]\n"
     ]
    }
   ],
   "source": [
    "number_vals =[i for i in range(1, 50+1)]\n",
    "print (number_vals)"
   ]
  },
  {
   "cell_type": "code",
   "execution_count": 7,
   "id": "ab6807c4",
   "metadata": {},
   "outputs": [
    {
     "name": "stdout",
     "output_type": "stream",
     "text": [
      "[1, 3, 5, 7, 9, 11, 13, 15, 17, 19, 21, 23, 25, 27, 29, 31, 33, 35, 37, 39, 41, 43, 45, 47, 49]\n"
     ]
    }
   ],
   "source": [
    "#to find odd numbers\n",
    "\n",
    "number_vals =[i for i in range(1, 50+1) if i%2!=0]\n",
    "print (number_vals)"
   ]
  },
  {
   "cell_type": "code",
   "execution_count": 8,
   "id": "b4cf7d72",
   "metadata": {},
   "outputs": [
    {
     "name": "stdout",
     "output_type": "stream",
     "text": [
      "[2, 4, 6, 8, 10, 12, 14, 16, 18, 20, 22, 24, 26, 28, 30, 32, 34, 36, 38, 40, 42, 44, 46, 48, 50]\n"
     ]
    }
   ],
   "source": [
    "#to find even numbers\n",
    "\n",
    "number_vals =[i for i in range(1, 50+1) if i%2==0]\n",
    "print (number_vals)"
   ]
  },
  {
   "cell_type": "code",
   "execution_count": 9,
   "id": "06869148",
   "metadata": {},
   "outputs": [
    {
     "name": "stdout",
     "output_type": "stream",
     "text": [
      "[1.4142135623730951, 2.0, 2.449489742783178, 2.8284271247461903, 3.1622776601683795, 3.4641016151377544, 3.7416573867739413, 4.0, 4.242640687119285, 4.47213595499958, 4.69041575982343, 4.898979485566356, 5.0990195135927845, 5.291502622129181, 5.477225575051661, 5.656854249492381, 5.830951894845301, 6.0, 6.164414002968976, 6.324555320336759, 6.48074069840786, 6.6332495807108, 6.782329983125268, 6.928203230275509, 7.0710678118654755]\n"
     ]
    }
   ],
   "source": [
    "number_vals =[(i**(1/2)) for i in range(1, 50+1) if i%2==0]\n",
    "print (number_vals)"
   ]
  },
  {
   "cell_type": "code",
   "execution_count": 10,
   "id": "36c2ebeb",
   "metadata": {},
   "outputs": [
    {
     "name": "stdout",
     "output_type": "stream",
     "text": [
      "4.843999999999999\n"
     ]
    }
   ],
   "source": [
    "#to find the mean of an array\n",
    "\n",
    "sum_val = 0\n",
    "for i in number_vals:\n",
    "    sum_val = sum_val + i\n",
    "total_sum = round((sum_val), 2)\n",
    "mean = total_sum/len(number_vals)\n",
    "print(mean)"
   ]
  },
  {
   "cell_type": "code",
   "execution_count": 11,
   "id": "efdfe8eb",
   "metadata": {},
   "outputs": [
    {
     "name": "stdout",
     "output_type": "stream",
     "text": [
      "12.5\n"
     ]
    }
   ],
   "source": [
    "#to find the maximum value of an array\n",
    "\n",
    "vals = [10, 12.5, 8, 9.5, 6, 11.5, 7, 4]\n",
    "pos = vals[0]\n",
    "for i in vals:\n",
    "    if i > pos:\n",
    "        pos = i\n",
    "print(pos)\n"
   ]
  },
  {
   "cell_type": "code",
   "execution_count": 12,
   "id": "1e3e48df",
   "metadata": {},
   "outputs": [
    {
     "ename": "TypeError",
     "evalue": "unsupported operand type(s) for -: 'list' and 'list'",
     "output_type": "error",
     "traceback": [
      "\u001b[1;31m---------------------------------------------------------------------------\u001b[0m",
      "\u001b[1;31mTypeError\u001b[0m                                 Traceback (most recent call last)",
      "\u001b[1;32m~\\AppData\\Local\\Temp/ipykernel_8376/1688148660.py\u001b[0m in \u001b[0;36m<module>\u001b[1;34m\u001b[0m\n\u001b[0;32m      1\u001b[0m \u001b[0mx\u001b[0m \u001b[1;33m=\u001b[0m \u001b[1;33m[\u001b[0m\u001b[1;36m10\u001b[0m\u001b[1;33m,\u001b[0m \u001b[1;36m15\u001b[0m\u001b[1;33m,\u001b[0m \u001b[1;36m20\u001b[0m\u001b[1;33m,\u001b[0m \u001b[1;36m30\u001b[0m\u001b[1;33m]\u001b[0m\u001b[1;33m\u001b[0m\u001b[1;33m\u001b[0m\u001b[0m\n\u001b[0;32m      2\u001b[0m \u001b[0mu\u001b[0m \u001b[1;33m=\u001b[0m \u001b[1;33m[\u001b[0m\u001b[1;36m15\u001b[0m\u001b[1;33m,\u001b[0m \u001b[1;36m21\u001b[0m\u001b[1;33m,\u001b[0m \u001b[1;36m28\u001b[0m\u001b[1;33m,\u001b[0m \u001b[1;36m39\u001b[0m\u001b[1;33m]\u001b[0m\u001b[1;33m\u001b[0m\u001b[1;33m\u001b[0m\u001b[0m\n\u001b[1;32m----> 3\u001b[1;33m \u001b[0mprint\u001b[0m\u001b[1;33m(\u001b[0m\u001b[0mx\u001b[0m\u001b[1;33m-\u001b[0m\u001b[0mu\u001b[0m\u001b[1;33m)\u001b[0m\u001b[1;33m\u001b[0m\u001b[1;33m\u001b[0m\u001b[0m\n\u001b[0m\u001b[0;32m      4\u001b[0m \u001b[1;33m\u001b[0m\u001b[0m\n\u001b[0;32m      5\u001b[0m \u001b[1;31m#this would not work\u001b[0m\u001b[1;33m\u001b[0m\u001b[1;33m\u001b[0m\u001b[0m\n",
      "\u001b[1;31mTypeError\u001b[0m: unsupported operand type(s) for -: 'list' and 'list'"
     ]
    }
   ],
   "source": [
    "x = [10, 15, 20, 30]\n",
    "u = [15, 21, 28, 39]\n",
    "print(x-u)\n",
    "\n",
    "#this would not work"
   ]
  },
  {
   "cell_type": "code",
   "execution_count": 13,
   "id": "e549172f",
   "metadata": {},
   "outputs": [
    {
     "name": "stdout",
     "output_type": "stream",
     "text": [
      "True\n"
     ]
    }
   ],
   "source": [
    "x = [10, 15, 20, 30]\n",
    "u = [15, 21, 28, 39]\n",
    "if len(x) == len(u):\n",
    "    print(True)\n",
    "else:\n",
    "    print(False)"
   ]
  },
  {
   "cell_type": "code",
   "execution_count": 14,
   "id": "eaaba53e",
   "metadata": {},
   "outputs": [
    {
     "name": "stdout",
     "output_type": "stream",
     "text": [
      "[5, 6, 8, 9]\n"
     ]
    }
   ],
   "source": [
    "#if you want to get the answer at once\n",
    "\n",
    "x = [10, 15, 20, 30]\n",
    "u = [15, 21, 28, 39]\n",
    "diff = []\n",
    "if len(x) == len(u):\n",
    "    for i in range(0, len(u)):\n",
    "        diff_val = u[i] - x[i]\n",
    "        diff.append(diff_val)\n",
    "    print(diff)\n",
    "else:\n",
    "    print(False)"
   ]
  },
  {
   "cell_type": "code",
   "execution_count": null,
   "id": "6ddefa20",
   "metadata": {},
   "outputs": [],
   "source": [
    "#if you want to get the differences in steps\n",
    "\n",
    "x = [10, 15, 20, 30]\n",
    "u = [15, 21, 28, 39]\n",
    "diff = []\n",
    "if len(x) == len(u):\n",
    "    for i in range(0, len(u)):\n",
    "        diff_val = u[i] - x[i]\n",
    "        diff.append(diff_val)\n",
    "        print(diff)\n",
    "else:\n",
    "    print(False)"
   ]
  },
  {
   "cell_type": "code",
   "execution_count": 15,
   "id": "a438ff52",
   "metadata": {},
   "outputs": [
    {
     "name": "stdout",
     "output_type": "stream",
     "text": [
      "25.75\n"
     ]
    }
   ],
   "source": [
    "#to find the standard deviation of an array\n",
    "\n",
    "u = [15, 21, 28, 39]\n",
    "length = len(u)\n",
    "sum_val = 0\n",
    "for i in u:\n",
    "    sum_val = sum_val + i\n",
    "total_sum = round((sum_val), 2)\n",
    "mean = total_sum/len(u)\n",
    "print(mean)\n"
   ]
  },
  {
   "cell_type": "code",
   "execution_count": 24,
   "id": "06439e5f",
   "metadata": {},
   "outputs": [
    {
     "name": "stdout",
     "output_type": "stream",
     "text": [
      "-10.75\n",
      "-4.75\n",
      "2.25\n",
      "13.25\n"
     ]
    }
   ],
   "source": [
    "sub = 0\n",
    "for i in u:\n",
    "    sub = i - mean\n",
    "    print(sub)"
   ]
  },
  {
   "cell_type": "code",
   "execution_count": 26,
   "id": "384bccad",
   "metadata": {},
   "outputs": [
    {
     "name": "stdout",
     "output_type": "stream",
     "text": [
      "[-10.75, -4.75, 2.25, 13.25]\n"
     ]
    }
   ],
   "source": [
    "comp = []\n",
    "sub = 0\n",
    "for i in u:\n",
    "    sub = i - mean\n",
    "    comp.append(sub)\n",
    "print(comp)"
   ]
  },
  {
   "cell_type": "code",
   "execution_count": 31,
   "id": "88be7652",
   "metadata": {},
   "outputs": [
    {
     "name": "stdout",
     "output_type": "stream",
     "text": [
      "175.5625\n"
     ]
    }
   ],
   "source": [
    "comp = 0\n",
    "for i in u:\n",
    "    sq = (i - mean)**2\n",
    "print(sq)"
   ]
  },
  {
   "cell_type": "code",
   "execution_count": 36,
   "id": "a4b6f346",
   "metadata": {},
   "outputs": [
    {
     "name": "stdout",
     "output_type": "stream",
     "text": [
      "43.890625\n"
     ]
    }
   ],
   "source": [
    "dev = (sq)/len(u)\n",
    "print(dev)"
   ]
  },
  {
   "cell_type": "code",
   "execution_count": 37,
   "id": "5c28b76d",
   "metadata": {},
   "outputs": [
    {
     "name": "stdout",
     "output_type": "stream",
     "text": [
      "6.625\n"
     ]
    }
   ],
   "source": [
    "s_dev = dev**(1/2)\n",
    "print(s_dev)"
   ]
  },
  {
   "cell_type": "code",
   "execution_count": 84,
   "id": "579d88ec",
   "metadata": {},
   "outputs": [
    {
     "name": "stdout",
     "output_type": "stream",
     "text": [
      "['192', '168', '120', '15']\n",
      "['221', '124', '127', '50']\n",
      "['101', '124', '56', '12']\n",
      "['221.124.127.50']\n"
     ]
    }
   ],
   "source": [
    "#to print the ip_address with the last value equal to 50\n",
    "\n",
    "ip_addr = [\"192.168.120.15\", \"221.124.127.50\", \"101.124.56.12\"]\n",
    "lst =[]\n",
    "for i in ip_addr:\n",
    "    print(i.split(\".\"))\n",
    "    a = int(i.split(\".\")[-1])\n",
    "    if a >= 30 and a <= 50:\n",
    "        lst.append(i)\n",
    "print(lst)"
   ]
  },
  {
   "cell_type": "code",
   "execution_count": 45,
   "id": "8b620b5a",
   "metadata": {},
   "outputs": [
    {
     "name": "stdout",
     "output_type": "stream",
     "text": [
      "[[1, 2, 3], [4, 5, 6], [7, 8, 9]]\n"
     ]
    }
   ],
   "source": [
    " m = [[1,2,3], \n",
    "      [4,5,6], \n",
    "      [7,8,9]]\n",
    "print(m)"
   ]
  },
  {
   "cell_type": "code",
   "execution_count": 53,
   "id": "9092839d",
   "metadata": {},
   "outputs": [
    {
     "name": "stdout",
     "output_type": "stream",
     "text": [
      "4\n"
     ]
    }
   ],
   "source": [
    "aa = []\n",
    "for i in m:\n",
    "    aa.append(i[0])\n",
    "print(aa[1])"
   ]
  },
  {
   "cell_type": "code",
   "execution_count": 54,
   "id": "d7dcd104",
   "metadata": {},
   "outputs": [
    {
     "name": "stdout",
     "output_type": "stream",
     "text": [
      "[1, 2, 3]\n",
      "[4, 5, 6]\n",
      "[7, 8, 9]\n"
     ]
    }
   ],
   "source": [
    "for i in m:\n",
    "    print(i)"
   ]
  },
  {
   "cell_type": "code",
   "execution_count": 55,
   "id": "914e6c66",
   "metadata": {},
   "outputs": [
    {
     "name": "stdout",
     "output_type": "stream",
     "text": [
      "[[1, 2, 3], [4, 5, 6], [7, 8, 9]]\n"
     ]
    }
   ],
   "source": [
    "print(m)"
   ]
  },
  {
   "cell_type": "code",
   "execution_count": 57,
   "id": "07f8d29f",
   "metadata": {},
   "outputs": [
    {
     "name": "stdout",
     "output_type": "stream",
     "text": [
      "1\n",
      "5\n",
      "9\n"
     ]
    }
   ],
   "source": [
    "for i in range(0, len(m)):\n",
    "    print(m[i][i])"
   ]
  },
  {
   "cell_type": "code",
   "execution_count": 60,
   "id": "03940b19",
   "metadata": {},
   "outputs": [
    {
     "data": {
      "text/plain": [
       "3"
      ]
     },
     "execution_count": 60,
     "metadata": {},
     "output_type": "execute_result"
    }
   ],
   "source": [
    "len(m)"
   ]
  },
  {
   "cell_type": "code",
   "execution_count": 61,
   "id": "9ae5d0bd",
   "metadata": {},
   "outputs": [
    {
     "name": "stdout",
     "output_type": "stream",
     "text": [
      "3\n",
      "5\n",
      "7\n"
     ]
    }
   ],
   "source": [
    "for i in range(0, len(m)):\n",
    "    print(m[i][(i+1)* -1])"
   ]
  },
  {
   "cell_type": "code",
   "execution_count": 62,
   "id": "609d0cda",
   "metadata": {
    "scrolled": true
   },
   "outputs": [
    {
     "name": "stdout",
     "output_type": "stream",
     "text": [
      "9\n",
      "5\n",
      "1\n"
     ]
    }
   ],
   "source": [
    "for i in range(0, len(m)):\n",
    "    print(m[(i+1)* -1][(i+1)* -1])"
   ]
  },
  {
   "cell_type": "code",
   "execution_count": 63,
   "id": "9d4c833a",
   "metadata": {},
   "outputs": [
    {
     "name": "stdout",
     "output_type": "stream",
     "text": [
      "1\n",
      "4\n",
      "7 8 9 "
     ]
    }
   ],
   "source": [
    "#using  end = \" \" to continue in a line without continueing a new line. therefore it will continue with the last line, and that is why we have 7,8,9\n",
    "\n",
    "for i in range(0, len(m)):\n",
    "    if i == len(m) -1:\n",
    "        pass\n",
    "    else:\n",
    "        print(m[i][0])\n",
    "    if i == len(m) -1:\n",
    "        for n in range(0, len(m[i])):\n",
    "            print(m[i][n], end = \" \")"
   ]
  },
  {
   "cell_type": "code",
   "execution_count": 65,
   "id": "5805839f",
   "metadata": {},
   "outputs": [
    {
     "name": "stdout",
     "output_type": "stream",
     "text": [
      "1\n",
      "\t5\n",
      "\t\t9\n"
     ]
    }
   ],
   "source": [
    "#\"\\t\" is like a tab on your keyboard, and in english writing. it is paragraphing. \n",
    "\n",
    "for i in range(0, len(m)):\n",
    "    print(end = \"\\t\" *i)\n",
    "    print(m[i][i])"
   ]
  },
  {
   "cell_type": "code",
   "execution_count": 68,
   "id": "44b8e57a",
   "metadata": {},
   "outputs": [
    {
     "name": "stdout",
     "output_type": "stream",
     "text": [
      "[1, 2, 3]\n",
      "[4, 5, 6]\n",
      "[7, 8, 9]\n"
     ]
    }
   ],
   "source": [
    "for i in m:\n",
    "    print(i)"
   ]
  },
  {
   "cell_type": "code",
   "execution_count": 67,
   "id": "efc05763",
   "metadata": {},
   "outputs": [
    {
     "name": "stdout",
     "output_type": "stream",
     "text": [
      "3\n",
      "\t5\n",
      "\t\t7\n"
     ]
    }
   ],
   "source": [
    "#the is not arranged as i expected, so i am going to try something else.\n",
    "\n",
    "for i in range(0, len(m)):\n",
    "    print(end = \"\\t\" *i)\n",
    "    print(m[i][(i+1) * -1])"
   ]
  },
  {
   "cell_type": "code",
   "execution_count": 70,
   "id": "05de898c",
   "metadata": {},
   "outputs": [
    {
     "name": "stdout",
     "output_type": "stream",
     "text": [
      "\t\t\t3\n",
      "\t\t5\n",
      "\t7\n"
     ]
    }
   ],
   "source": [
    "#this is exactly what i want to produce.\n",
    "#the series (len(m), 0, -1); mit means len(m) is the length of the m, 0 is the poition, and -1 is the steps at which the series run.\n",
    "#at default, it is 1 and that is why we dont bother to type 1, but from 2 upward, it is important we use it and from -1 down, it is important to use it.\n",
    "\n",
    "for i in range(len(m), 0, -1):\n",
    "    print(end = \"\\t\" *i)\n",
    "    print(m[(i) * -1][i - 1])"
   ]
  },
  {
   "cell_type": "code",
   "execution_count": 74,
   "id": "dafd1835",
   "metadata": {},
   "outputs": [
    {
     "name": "stdout",
     "output_type": "stream",
     "text": [
      "1   3 \n",
      "  5   \n",
      "7   9 \n"
     ]
    }
   ],
   "source": [
    "for i in range(0, len(m)):\n",
    "    for j in range(0, len(m[i])):\n",
    "        if m[i][j] % 2 != 0:\n",
    "            print(m[i][j], end = \" \")\n",
    "        else:\n",
    "            print(\" \", end = \" \")\n",
    "    print()"
   ]
  },
  {
   "cell_type": "code",
   "execution_count": null,
   "id": "48217429",
   "metadata": {},
   "outputs": [],
   "source": []
  }
 ],
 "metadata": {
  "kernelspec": {
   "display_name": "Python 3 (ipykernel)",
   "language": "python",
   "name": "python3"
  },
  "language_info": {
   "codemirror_mode": {
    "name": "ipython",
    "version": 3
   },
   "file_extension": ".py",
   "mimetype": "text/x-python",
   "name": "python",
   "nbconvert_exporter": "python",
   "pygments_lexer": "ipython3",
   "version": "3.9.7"
  }
 },
 "nbformat": 4,
 "nbformat_minor": 5
}
