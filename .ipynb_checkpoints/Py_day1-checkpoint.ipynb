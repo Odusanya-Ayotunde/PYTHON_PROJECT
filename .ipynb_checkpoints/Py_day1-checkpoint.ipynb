{
 "cells": [
  {
   "cell_type": "code",
   "execution_count": 2,
   "id": "c4bfe687",
   "metadata": {},
   "outputs": [
    {
     "name": "stdout",
     "output_type": "stream",
     "text": [
      "hello world\n"
     ]
    }
   ],
   "source": [
    "print(\"hello world\")"
   ]
  },
  {
   "cell_type": "code",
   "execution_count": 4,
   "id": "c90713f6",
   "metadata": {},
   "outputs": [
    {
     "name": "stdout",
     "output_type": "stream",
     "text": [
      "30\n"
     ]
    }
   ],
   "source": [
    "x = 10\n",
    "y = 20\n",
    "print(x+y)"
   ]
  },
  {
   "cell_type": "code",
   "execution_count": 5,
   "id": "a501c79d",
   "metadata": {},
   "outputs": [
    {
     "name": "stdout",
     "output_type": "stream",
     "text": [
      "x plus y is = 30\n"
     ]
    }
   ],
   "source": [
    "print(f\"x plus y is = {x+y}\")"
   ]
  },
  {
   "cell_type": "code",
   "execution_count": 6,
   "id": "448e6db0",
   "metadata": {},
   "outputs": [
    {
     "name": "stdout",
     "output_type": "stream",
     "text": [
      "\n",
      "      Hello Ayo,\n",
      "      I hope you are doing great?\n",
      "      regards.\n",
      "\n"
     ]
    }
   ],
   "source": [
    "print(f\"\"\"\n",
    "      Hello Ayo,\n",
    "      I hope you are doing great?\n",
    "      regards.\n",
    "\"\"\")"
   ]
  },
  {
   "cell_type": "code",
   "execution_count": 12,
   "id": "92248cc8",
   "metadata": {},
   "outputs": [
    {
     "name": "stdout",
     "output_type": "stream",
     "text": [
      "\"\"\n",
      "     Hello Ayo,\n",
      "     how are you doing?\n",
      "     I'm happy to reach out to you.\n",
      "     love you!\n",
      "     Regards.\n",
      "\n"
     ]
    }
   ],
   "source": [
    "print(f\"\"\"\"\"\n",
    "     Hello Ayo,\n",
    "     how are you doing?\n",
    "     I'm happy to reach out to you.\n",
    "     love you!\n",
    "     Regards.\n",
    "\"\"\"\"\")"
   ]
  },
  {
   "cell_type": "code",
   "execution_count": 10,
   "id": "de02781c",
   "metadata": {},
   "outputs": [
    {
     "name": "stdout",
     "output_type": "stream",
     "text": [
      "enter the name: Ayo\n",
      "enter the year born: 1994\n",
      "\n",
      "      Hello Ayo,\n",
      "      the computer calculated your age to be 28.0,\n",
      "      Hope your input was enterred correctly.\n",
      "\n"
     ]
    }
   ],
   "source": [
    "name = input(\"enter the name: \")\n",
    "year = float (input(\"enter the year born: \"))\n",
    "age = 2022 - year\n",
    "print (f\"\"\"\n",
    "      Hello {name},\n",
    "      the computer calculated your age to be {age},\n",
    "      Hope your input was enterred correctly.\n",
    "\"\"\")"
   ]
  },
  {
   "cell_type": "code",
   "execution_count": 13,
   "id": "ca66b945",
   "metadata": {},
   "outputs": [
    {
     "name": "stdout",
     "output_type": "stream",
     "text": [
      "enter temperature vcalue45\n",
      "enter unit (f/c): f\n",
      "the temperature value from fahr to cel is 7.222celcius\n"
     ]
    }
   ],
   "source": [
    "#float is used to make the string a numeric value with decimals\n",
    "#.lower is used to make the input in lower case by default\n",
    "\n",
    "temp_val = float(input(\"enter temperature vcalue\"))\n",
    "unit = input(\"enter unit (f/c): \").lower()\n",
    "\n",
    "if unit == \"f\":\n",
    "    temp_fahr = round((5/9) * (temp_val -32), 3)\n",
    "    print(f\"the temperature value from fahr to cel is {temp_fahr}celcius\")\n",
    "elif unit == \"c\":\n",
    "    temp_cel = round((9/5) * (temp_val +32), 3)    \n",
    "    print(f\"the temperature value from cel to fahr is {temp_cel}celcius\")\n",
    "else:\n",
    "    print(\"input not understood\")"
   ]
  },
  {
   "cell_type": "code",
   "execution_count": 15,
   "id": "3e441349",
   "metadata": {},
   "outputs": [
    {
     "name": "stdout",
     "output_type": "stream",
     "text": [
      "enter weight value: 45\n",
      "enter weight unit: kg\n",
      "enter height value: 180\n",
      "enter height unit: m\n"
     ]
    },
    {
     "ename": "NameError",
     "evalue": "name 'unit_height' is not defined",
     "output_type": "error",
     "traceback": [
      "\u001b[1;31m---------------------------------------------------------------------------\u001b[0m",
      "\u001b[1;31mNameError\u001b[0m                                 Traceback (most recent call last)",
      "\u001b[1;32m~\\AppData\\Local\\Temp/ipykernel_8324/4183093561.py\u001b[0m in \u001b[0;36m<module>\u001b[1;34m\u001b[0m\n\u001b[0;32m     10\u001b[0m     \u001b[0mprint\u001b[0m\u001b[1;33m(\u001b[0m\u001b[1;34mf\"{bmi}lbs/ft2\"\u001b[0m\u001b[1;33m)\u001b[0m\u001b[1;33m\u001b[0m\u001b[1;33m\u001b[0m\u001b[0m\n\u001b[0;32m     11\u001b[0m \u001b[1;33m\u001b[0m\u001b[0m\n\u001b[1;32m---> 12\u001b[1;33m \u001b[1;32melif\u001b[0m \u001b[0munit_weight\u001b[0m \u001b[1;33m==\u001b[0m \u001b[1;34m\"kg\"\u001b[0m \u001b[1;32mand\u001b[0m \u001b[0munit_height\u001b[0m \u001b[1;33m==\u001b[0m \u001b[1;34m\"m\"\u001b[0m\u001b[1;33m:\u001b[0m\u001b[1;33m\u001b[0m\u001b[1;33m\u001b[0m\u001b[0m\n\u001b[0m\u001b[0;32m     13\u001b[0m     \u001b[0mbmi\u001b[0m \u001b[1;33m=\u001b[0m \u001b[1;33m(\u001b[0m\u001b[0mweight\u001b[0m\u001b[1;33m/\u001b[0m\u001b[1;36m2.204\u001b[0m\u001b[1;33m)\u001b[0m \u001b[1;33m/\u001b[0m \u001b[1;33m(\u001b[0m\u001b[1;33m(\u001b[0m\u001b[0mheight\u001b[0m\u001b[1;33m/\u001b[0m\u001b[1;36m3.281\u001b[0m\u001b[1;33m)\u001b[0m\u001b[1;33m**\u001b[0m\u001b[1;36m2\u001b[0m\u001b[1;33m)\u001b[0m\u001b[1;33m\u001b[0m\u001b[1;33m\u001b[0m\u001b[0m\n\u001b[0;32m     14\u001b[0m     \u001b[0mprint\u001b[0m\u001b[1;33m(\u001b[0m\u001b[1;34mf\"{bmi}kg/m2\"\u001b[0m\u001b[1;33m)\u001b[0m\u001b[1;33m\u001b[0m\u001b[1;33m\u001b[0m\u001b[0m\n",
      "\u001b[1;31mNameError\u001b[0m: name 'unit_height' is not defined"
     ]
    }
   ],
   "source": [
    "#to calculate the bmi of someone\n",
    "\n",
    "weight = float(input(\"enter weight value: \"))\n",
    "unit_weight = input(\"enter weight unit: \")\n",
    "height = float(input(\"enter height value: \"))\n",
    "height_unit = input(\"enter height unit: \")\n",
    "\n",
    "if unit_weight == \"lbs\" and unit_height == \"ft\":\n",
    "    bmi = weight/(height**2)\n",
    "    print(f\"{bmi}lbs/ft2\")\n",
    "    \n",
    "elif unit_weight == \"kg\" and unit_height == \"m\":\n",
    "    bmi = (weight/2.204) / ((height/3.281)**2)\n",
    "    print(f\"{bmi}kg/m2\")\n",
    "\n",
    "else:\n",
    "    print(\"conversion not available or input incorrect\")\n"
   ]
  },
  {
   "cell_type": "code",
   "execution_count": null,
   "id": "5ce3ff13",
   "metadata": {},
   "outputs": [],
   "source": []
  }
 ],
 "metadata": {
  "kernelspec": {
   "display_name": "Python 3 (ipykernel)",
   "language": "python",
   "name": "python3"
  },
  "language_info": {
   "codemirror_mode": {
    "name": "ipython",
    "version": 3
   },
   "file_extension": ".py",
   "mimetype": "text/x-python",
   "name": "python",
   "nbconvert_exporter": "python",
   "pygments_lexer": "ipython3",
   "version": "3.9.7"
  }
 },
 "nbformat": 4,
 "nbformat_minor": 5
}
