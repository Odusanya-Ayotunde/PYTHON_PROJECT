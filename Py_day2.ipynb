{
 "cells": [
  {
   "cell_type": "code",
   "execution_count": 1,
   "id": "a65a5d5a",
   "metadata": {},
   "outputs": [
    {
     "name": "stdout",
     "output_type": "stream",
     "text": [
      "m\n"
     ]
    }
   ],
   "source": [
    "#to find the index for a string\n",
    "\n",
    "x = \"amie\"\n",
    "print(x[1])"
   ]
  },
  {
   "cell_type": "code",
   "execution_count": 2,
   "id": "38ba4b7c",
   "metadata": {},
   "outputs": [
    {
     "name": "stdout",
     "output_type": "stream",
     "text": [
      "ami\n"
     ]
    }
   ],
   "source": [
    "print(x[0:-1])"
   ]
  },
  {
   "cell_type": "code",
   "execution_count": 3,
   "id": "36933e4a",
   "metadata": {},
   "outputs": [
    {
     "data": {
      "text/plain": [
       "0"
      ]
     },
     "execution_count": 3,
     "metadata": {},
     "output_type": "execute_result"
    }
   ],
   "source": [
    "#it counts the first variable of the string as 0\n",
    "\n",
    "x.index('a')"
   ]
  },
  {
   "cell_type": "code",
   "execution_count": 4,
   "id": "84243068",
   "metadata": {},
   "outputs": [
    {
     "data": {
      "text/plain": [
       "1"
      ]
     },
     "execution_count": 4,
     "metadata": {},
     "output_type": "execute_result"
    }
   ],
   "source": [
    "x.index('m')"
   ]
  },
  {
   "cell_type": "code",
   "execution_count": 5,
   "id": "e8ff8ecf",
   "metadata": {},
   "outputs": [
    {
     "data": {
      "text/plain": [
       "2"
      ]
     },
     "execution_count": 5,
     "metadata": {},
     "output_type": "execute_result"
    }
   ],
   "source": [
    "x.index('i')"
   ]
  },
  {
   "cell_type": "code",
   "execution_count": 6,
   "id": "88f7b001",
   "metadata": {},
   "outputs": [
    {
     "data": {
      "text/plain": [
       "3"
      ]
     },
     "execution_count": 6,
     "metadata": {},
     "output_type": "execute_result"
    }
   ],
   "source": [
    "x.index('e')"
   ]
  },
  {
   "cell_type": "code",
   "execution_count": 8,
   "id": "3bc0f342",
   "metadata": {},
   "outputs": [
    {
     "name": "stdout",
     "output_type": "stream",
     "text": [
      "1\n"
     ]
    }
   ],
   "source": [
    "#to select from the array from any position\n",
    "# the answer 1 shows the position of janet in the array. remember that, it reads from 0.\n",
    "\n",
    "p = [\"amie\", \"janet\", \"susan\", \"ayo\", \"bola\"]\n",
    "index_val = p.index(\"janet\")\n",
    "print(index_val)"
   ]
  },
  {
   "cell_type": "code",
   "execution_count": 10,
   "id": "9f8120ab",
   "metadata": {},
   "outputs": [
    {
     "name": "stdout",
     "output_type": "stream",
     "text": [
      "janet\n"
     ]
    }
   ],
   "source": [
    "p = [\"amie\", \"janet\", \"susan\", \"ayo\", \"bola\"]\n",
    "index_val = p.index(\"janet\")\n",
    "y_val = p[index_val]\n",
    "print(y_val)"
   ]
  },
  {
   "cell_type": "code",
   "execution_count": 12,
   "id": "e95f5acf",
   "metadata": {},
   "outputs": [
    {
     "name": "stdout",
     "output_type": "stream",
     "text": [
      "['janet', 'susan', 'ayo', 'bola']\n"
     ]
    }
   ],
   "source": [
    "p = [\"amie\", \"janet\", \"susan\", \"ayo\", \"bola\"]\n",
    "index_val = p.index(\"janet\")\n",
    "y_val = p[index_val:]\n",
    "print(y_val)"
   ]
  },
  {
   "cell_type": "code",
   "execution_count": 13,
   "id": "1dd5615f",
   "metadata": {},
   "outputs": [
    {
     "name": "stdout",
     "output_type": "stream",
     "text": [
      "['susan', 'ayo', 'bola']\n"
     ]
    }
   ],
   "source": [
    "p = [\"amie\", \"janet\", \"susan\", \"ayo\", \"bola\"]\n",
    "index_val = p.index(\"janet\")\n",
    "y_val = p[index_val+1:]\n",
    "print(y_val)"
   ]
  },
  {
   "cell_type": "code",
   "execution_count": 14,
   "id": "5e50a1ba",
   "metadata": {},
   "outputs": [
    {
     "name": "stdout",
     "output_type": "stream",
     "text": [
      "['janet', 'susan', 'ayo']\n"
     ]
    }
   ],
   "source": [
    "p = [\"amie\", \"janet\", \"susan\", \"ayo\", \"bola\"]\n",
    "index_val = p.index(\"janet\")\n",
    "y_val = p[index_val:-1]\n",
    "print(y_val)"
   ]
  },
  {
   "cell_type": "code",
   "execution_count": 15,
   "id": "0fdad00b",
   "metadata": {},
   "outputs": [
    {
     "name": "stdout",
     "output_type": "stream",
     "text": [
      "['amie']\n"
     ]
    }
   ],
   "source": [
    "z_val = p[:index_val]\n",
    "print(z_val)"
   ]
  },
  {
   "cell_type": "code",
   "execution_count": 16,
   "id": "9b197e36",
   "metadata": {},
   "outputs": [
    {
     "name": "stdout",
     "output_type": "stream",
     "text": [
      "3.5\n"
     ]
    }
   ],
   "source": [
    "#to find the mean of an array\n",
    "#len is used to represent length of the array\n",
    "\n",
    "d = [\"juan\", \"kate\", \"mitchel\", \"funmi\", \"angel\", \"ada\", \"lola\"]\n",
    "count_avg = len(d)/2\n",
    "print(count_avg)"
   ]
  },
  {
   "cell_type": "code",
   "execution_count": 18,
   "id": "443517ce",
   "metadata": {},
   "outputs": [
    {
     "name": "stdout",
     "output_type": "stream",
     "text": [
      "3\n"
     ]
    }
   ],
   "source": [
    "#int is the integer in Python and integers are whole numbers.\n",
    "\n",
    "d = [\"juan\", \"kate\", \"mitchel\", \"funmi\", \"angel\", \"ada\", \"lola\"]\n",
    "count_avg = int(len(d)/2)\n",
    "print(count_avg)"
   ]
  },
  {
   "cell_type": "code",
   "execution_count": 19,
   "id": "bcf932d9",
   "metadata": {},
   "outputs": [
    {
     "name": "stdout",
     "output_type": "stream",
     "text": [
      "3\n",
      "2\n"
     ]
    }
   ],
   "source": [
    "d = [\"juan\", \"kate\", \"mitchel\", \"funmi\", \"angel\", \"ada\", \"lola\"]\n",
    "count_avg = int(len(d)/2)\n",
    "new_count_avg = count_avg -1\n",
    "print(count_avg)\n",
    "print(new_count_avg)"
   ]
  },
  {
   "cell_type": "code",
   "execution_count": 20,
   "id": "03285f8a",
   "metadata": {},
   "outputs": [
    {
     "name": "stdout",
     "output_type": "stream",
     "text": [
      "4\n",
      "3\n"
     ]
    }
   ],
   "source": [
    "d = [\"juan\", \"kate\", \"mitchel\", \"funmi\", \"angel\", \"ada\", \"lola\", \"joy\"]\n",
    "count_avg = int(len(d)/2)\n",
    "new_count_avg = count_avg -1\n",
    "print(count_avg)\n",
    "print(new_count_avg)"
   ]
  },
  {
   "cell_type": "code",
   "execution_count": 22,
   "id": "bb9eb48b",
   "metadata": {},
   "outputs": [
    {
     "name": "stdout",
     "output_type": "stream",
     "text": [
      "[3, 6, 'jane', 'bella', 'daniel']\n"
     ]
    }
   ],
   "source": [
    "#to append\n",
    "\n",
    "arr1 = [3,6, \"jane\", \"bella\"]\n",
    "arr1.append(\"daniel\")\n",
    "print(arr1)"
   ]
  },
  {
   "cell_type": "code",
   "execution_count": 23,
   "id": "212c96b1",
   "metadata": {},
   "outputs": [
    {
     "name": "stdout",
     "output_type": "stream",
     "text": [
      "[3, 6, 'jane', 'bella', ['tola', 'madu']]\n"
     ]
    }
   ],
   "source": [
    "arr1 = [3,6, \"jane\", \"bella\"]\n",
    "arr2 = [\"tola\", \"madu\"]\n",
    "arr1.append(arr2)\n",
    "print(arr1)"
   ]
  },
  {
   "cell_type": "code",
   "execution_count": 24,
   "id": "a74eea67",
   "metadata": {},
   "outputs": [
    {
     "name": "stdout",
     "output_type": "stream",
     "text": [
      "[3, 6, 'jane', 'bella', ['tola', 'madu'], 'tola', 'madu']\n"
     ]
    }
   ],
   "source": [
    "print(arr1 + arr2)"
   ]
  },
  {
   "cell_type": "code",
   "execution_count": 28,
   "id": "aa7a1774",
   "metadata": {},
   "outputs": [
    {
     "ename": "SyntaxError",
     "evalue": "invalid syntax (Temp/ipykernel_5508/1845900784.py, line 2)",
     "output_type": "error",
     "traceback": [
      "\u001b[1;36m  File \u001b[1;32m\"C:\\Users\\Trainee1\\AppData\\Local\\Temp/ipykernel_5508/1845900784.py\"\u001b[1;36m, line \u001b[1;32m2\u001b[0m\n\u001b[1;33m    for i in array1\u001b[0m\n\u001b[1;37m                   ^\u001b[0m\n\u001b[1;31mSyntaxError\u001b[0m\u001b[1;31m:\u001b[0m invalid syntax\n"
     ]
    }
   ],
   "source": [
    "array1 = [\"teni\", \"tiwa\", \"tems\", \"rihanna\"]\n",
    "for i in array1\n",
    "    print(i)"
   ]
  },
  {
   "cell_type": "code",
   "execution_count": 29,
   "id": "4308e3ba",
   "metadata": {},
   "outputs": [
    {
     "name": "stdout",
     "output_type": "stream",
     "text": [
      "teni\n",
      "tiwa\n",
      "tems\n",
      "rihanna\n"
     ]
    }
   ],
   "source": [
    "# the \":\" is the reason it did not work\n",
    "\n",
    "array1 = [\"teni\", \"tiwa\", \"tems\", \"rihanna\"]\n",
    "for i in array1:\n",
    "    print(i)"
   ]
  },
  {
   "cell_type": "code",
   "execution_count": 37,
   "id": "127d0963",
   "metadata": {},
   "outputs": [
    {
     "name": "stdout",
     "output_type": "stream",
     "text": [
      "rihanna\n"
     ]
    }
   ],
   "source": [
    "# to pick an index value that begins with r\n",
    "\n",
    "array1 = [\"teni\", \"tiwa\", \"tems\", \"rihanna\"]\n",
    "for i in array1:\n",
    "    if i[0] == \"r\":\n",
    "        print (i)"
   ]
  },
  {
   "cell_type": "code",
   "execution_count": 38,
   "id": "967e2703",
   "metadata": {},
   "outputs": [
    {
     "name": "stdout",
     "output_type": "stream",
     "text": [
      "['rihanna']\n"
     ]
    }
   ],
   "source": [
    "r_names = []\n",
    "array1 = [\"teni\", \"tiwa\", \"tems\", \"rihanna\"]\n",
    "for i in array1:\n",
    "    if i[0] == \"r\":\n",
    "        r_names.append(i)\n",
    "print(r_names)"
   ]
  },
  {
   "cell_type": "code",
   "execution_count": 46,
   "id": "deec62f9",
   "metadata": {},
   "outputs": [
    {
     "name": "stdout",
     "output_type": "stream",
     "text": [
      "Jacob\n",
      "Obi\n",
      "Moses\n",
      "Victor\n",
      "['Jacob', 'Obi', 'Moses', 'Victor']\n"
     ]
    }
   ],
   "source": [
    "#to change from lower case to upper case for first letters in a name.\n",
    "\n",
    "new_surnames =[]\n",
    "array_names = [\"jacob\", \"obi\", \"moses\", \"victor\"]\n",
    "\n",
    "for i in array_names:\n",
    "    cap_names = i[0].upper() + i[1:]\n",
    "    new_surnames.append(cap_names)\n",
    "    print(cap_names)\n",
    "print(new_surnames)"
   ]
  },
  {
   "cell_type": "code",
   "execution_count": 51,
   "id": "6df13314",
   "metadata": {},
   "outputs": [
    {
     "name": "stdout",
     "output_type": "stream",
     "text": [
      "['teni', 'tiwa', 'tems', 'rihanna']\n",
      "Jacob teni\n",
      "Obi tiwa\n",
      "Moses tems\n",
      "Victor rihanna\n"
     ]
    }
   ],
   "source": [
    "#to join names \n",
    "\n",
    "print(array1)\n",
    "\n",
    "for i in range(0, len(array1)):\n",
    "    fullnames = f\"{new_surnames[i]} {array1[i]}\"\n",
    "    print(fullnames)"
   ]
  },
  {
   "cell_type": "code",
   "execution_count": 54,
   "id": "38f26bc9",
   "metadata": {},
   "outputs": [
    {
     "name": "stdout",
     "output_type": "stream",
     "text": [
      "True\n",
      "True\n",
      "True\n"
     ]
    }
   ],
   "source": [
    "#to select a string from an array\n",
    "#str stands for string\n",
    "\n",
    "element = [\"hannah\", \"shalom\", 10, 15, \"design\"]\n",
    "for i in element:\n",
    "    test = isinstance(i, str)\n",
    "    if test == True:\n",
    "        print(test)"
   ]
  },
  {
   "cell_type": "code",
   "execution_count": 55,
   "id": "fbd1cb6c",
   "metadata": {},
   "outputs": [
    {
     "name": "stdout",
     "output_type": "stream",
     "text": [
      "hannah\n",
      "shalom\n",
      "design\n"
     ]
    }
   ],
   "source": [
    "element = [\"hannah\", \"shalom\", 10, 15, \"design\"]\n",
    "for i in element:\n",
    "    test = isinstance(i, str)\n",
    "    if test == True:\n",
    "        print(i)"
   ]
  },
  {
   "cell_type": "code",
   "execution_count": 56,
   "id": "c379c374",
   "metadata": {},
   "outputs": [
    {
     "data": {
      "text/plain": [
       "str"
      ]
     },
     "execution_count": 56,
     "metadata": {},
     "output_type": "execute_result"
    }
   ],
   "source": [
    "type(\"hannah\")"
   ]
  },
  {
   "cell_type": "code",
   "execution_count": 57,
   "id": "2c8f9471",
   "metadata": {},
   "outputs": [
    {
     "name": "stdout",
     "output_type": "stream",
     "text": [
      "10\n",
      "15\n"
     ]
    }
   ],
   "source": [
    "for i in element:\n",
    "    p = type(i)\n",
    "    if p == int:\n",
    "        print(i)"
   ]
  },
  {
   "cell_type": "code",
   "execution_count": 58,
   "id": "afb27e4d",
   "metadata": {},
   "outputs": [
    {
     "name": "stdout",
     "output_type": "stream",
     "text": [
      "yes they are all strings!\n"
     ]
    }
   ],
   "source": [
    "new_list = []\n",
    "d = [\"juan\", \"kate\", \"mitchel\", \"funmi\", \"angel\", \"ada\", \"lola\", \"joy\"]\n",
    "for i in d:\n",
    "    k = type(i)\n",
    "    if k == str:\n",
    "        new_list.append(i)\n",
    "if len(new_list)==len(d):\n",
    "    print(\"yes they are all strings!\")\n",
    "else:\n",
    "    print(\"No they are not all strings!\")"
   ]
  },
  {
   "cell_type": "code",
   "execution_count": 59,
   "id": "a24bce4c",
   "metadata": {},
   "outputs": [
    {
     "name": "stdout",
     "output_type": "stream",
     "text": [
      "No they are not all strings!\n"
     ]
    }
   ],
   "source": [
    "new_list = []\n",
    "d = [\"juan\", 10, \"mitchel\", \"funmi\", \"angel\", \"ada\", \"lola\", \"joy\"]\n",
    "for i in d:\n",
    "    k = type(i)\n",
    "    if k == str:\n",
    "        new_list.append(i)\n",
    "if len(new_list)==len(d):\n",
    "    print(\"yes they are all strings!\")\n",
    "else:\n",
    "    print(\"No they are not all strings!\")"
   ]
  },
  {
   "cell_type": "code",
   "execution_count": null,
   "id": "47b7b6dc",
   "metadata": {},
   "outputs": [],
   "source": []
  }
 ],
 "metadata": {
  "kernelspec": {
   "display_name": "Python 3 (ipykernel)",
   "language": "python",
   "name": "python3"
  },
  "language_info": {
   "codemirror_mode": {
    "name": "ipython",
    "version": 3
   },
   "file_extension": ".py",
   "mimetype": "text/x-python",
   "name": "python",
   "nbconvert_exporter": "python",
   "pygments_lexer": "ipython3",
   "version": "3.9.7"
  }
 },
 "nbformat": 4,
 "nbformat_minor": 5
}
